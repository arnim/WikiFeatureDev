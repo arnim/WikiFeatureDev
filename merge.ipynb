{
 "cells": [
  {
   "cell_type": "markdown",
   "metadata": {},
   "source": [
    "# Merge & Analysis"
   ]
  },
  {
   "cell_type": "code",
   "execution_count": null,
   "metadata": {},
   "outputs": [],
   "source": [
    "library(data.table)\n",
    "library(stringr)\n",
    "library(ggplot2)\n",
    "library(psych)"
   ]
  },
  {
   "cell_type": "code",
   "execution_count": null,
   "metadata": {},
   "outputs": [],
   "source": [
    "oneOBigger <- function(nn){\n",
    "    if (nn > 0) {\n",
    "        return(nn)\n",
    "    } else {\n",
    "        return(1)\n",
    "    }\n",
    "}\n",
    "duration <- function(myvar, window = 5) {\n",
    "    \n",
    "    durc <- integer(nrow(myvar))\n",
    "    for (current_line in 1:nrow(myvar)){\n",
    "            current_auth_both <- union(myvar$s_author[current_line], myvar$t_author[current_line])\n",
    "            past_auth_in_window <- myvar[c((oneOBigger(current_line-window)):current_line),c(\"s_author\",\"t_author\")]\n",
    "            durc[current_line] <- sum(is.element(past_auth_in_window$s_author, current_auth_both) & is.element(past_auth_in_window$t_author, current_auth_both))\n",
    "        }\n",
    "     return(durc)\n",
    "}"
   ]
  },
  {
   "cell_type": "code",
   "execution_count": null,
   "metadata": {},
   "outputs": [],
   "source": [
    "received_negativity <- function(df_test) {\n",
    "    myvar <- copy(df_test)\n",
    "    durc <- integer(nrow(myvar))\n",
    "    for (current_line in 1:nrow(myvar)){\n",
    "         \n",
    "        current_target = myvar$t_revision[current_line]\n",
    "        current_s_author = myvar$s_author[current_line]\n",
    "        \n",
    "        set1 <- myvar[myvar$s_revision == current_target & myvar$t_author == current_s_author,]\n",
    "        \n",
    "        durc[current_line] <- (sum(str_count(set1$deleted...out, \"'\")) / 2) + ( sum(str_count(set1$undo_delete...in, \"'\")) / 2) +  ( sum(str_count(set1$undo_reintro...out, \"'\")) / 2)\n",
    "        }\n",
    "     return(durc)\n",
    "}"
   ]
  },
  {
   "cell_type": "code",
   "execution_count": null,
   "metadata": {},
   "outputs": [],
   "source": [
    "reciprocity <- function(df_test) {\n",
    "    myvar <- copy(df_test)\n",
    "    durc <- integer(nrow(myvar))\n",
    "    for (current_line in 1:nrow(myvar)){\n",
    "         \n",
    "        current_target = myvar$t_revision[current_line]\n",
    "        current_s_author = myvar$s_author[current_line]\n",
    "        \n",
    "        set1 <- myvar[myvar$s_revision == current_target & myvar$t_author == current_s_author,]\n",
    "        \n",
    "        zzz <- (sum(str_count(set1$deleted...out, \"'\")) / 2) + ( sum(str_count(set1$undo_delete...in, \"'\")) / 2) +  ( sum(str_count(set1$undo_reintro...out, \"'\")) / 2)\n",
    "        iii <- (sum(str_count(myvar[current_line,]$deleted...out, \"'\")) / 2) + ( sum(str_count(myvar[current_line,]$undo_delete...in, \"'\")) / 2) +  ( sum(str_count(myvar[current_line,]$undo_reintro...out, \"'\")) / 2)\n",
    "             \n",
    "        if (zzz != 0) {\n",
    "            durc[current_line] = (iii) / (zzz)\n",
    "        }\n",
    "        if (durc[current_line] > 1){\n",
    "            durc[current_line] <- 1\n",
    "        }\n",
    "    }\n",
    "     return(durc)\n",
    "}"
   ]
  },
  {
   "cell_type": "code",
   "execution_count": null,
   "metadata": {},
   "outputs": [],
   "source": [
    "data <- read.csv(\"data/Eire_fabout.csv\", sep=\"\\t\", stringsAsFactors = F)\n",
    "head(data)"
   ]
  },
  {
   "cell_type": "code",
   "execution_count": null,
   "metadata": {},
   "outputs": [],
   "source": []
  },
  {
   "cell_type": "code",
   "execution_count": null,
   "metadata": {},
   "outputs": [],
   "source": []
  },
  {
   "cell_type": "code",
   "execution_count": null,
   "metadata": {},
   "outputs": [],
   "source": [
    "data['duration'] <- duration(data, window = 30)"
   ]
  },
  {
   "cell_type": "code",
   "execution_count": null,
   "metadata": {},
   "outputs": [],
   "source": [
    "data['received_negativity'] <- received_negativity(data)"
   ]
  },
  {
   "cell_type": "code",
   "execution_count": null,
   "metadata": {},
   "outputs": [],
   "source": [
    "data['reciprocity'] <- reciprocity(data)"
   ]
  },
  {
   "cell_type": "code",
   "execution_count": null,
   "metadata": {},
   "outputs": [],
   "source": [
    "analysis <- data[c('duration', 'received_negativity', 'reciprocity', 'negativity', 'negativity_noadds','ratio_swords')]"
   ]
  },
  {
   "cell_type": "code",
   "execution_count": null,
   "metadata": {},
   "outputs": [],
   "source": [
    "head(analysis)"
   ]
  },
  {
   "cell_type": "code",
   "execution_count": null,
   "metadata": {},
   "outputs": [],
   "source": [
    "plot(analysis)"
   ]
  },
  {
   "cell_type": "code",
   "execution_count": null,
   "metadata": {},
   "outputs": [],
   "source": [
    "cor(analysis)"
   ]
  },
  {
   "cell_type": "code",
   "execution_count": null,
   "metadata": {},
   "outputs": [],
   "source": [
    "summary(analysis)"
   ]
  },
  {
   "cell_type": "code",
   "execution_count": null,
   "metadata": {},
   "outputs": [],
   "source": [
    "hist(analysis$duration)"
   ]
  },
  {
   "cell_type": "code",
   "execution_count": null,
   "metadata": {},
   "outputs": [],
   "source": [
    "hist(analysis$received_negativity)"
   ]
  },
  {
   "cell_type": "code",
   "execution_count": null,
   "metadata": {},
   "outputs": [],
   "source": [
    "hist(analysis$reciprocity)"
   ]
  },
  {
   "cell_type": "code",
   "execution_count": null,
   "metadata": {},
   "outputs": [],
   "source": [
    "hist(analysis$negativity)"
   ]
  },
  {
   "cell_type": "code",
   "execution_count": null,
   "metadata": {},
   "outputs": [],
   "source": [
    "hist(analysis$negativity_noadds)"
   ]
  },
  {
   "cell_type": "code",
   "execution_count": null,
   "metadata": {},
   "outputs": [],
   "source": [
    "hist(analysis$ratio_swords)"
   ]
  },
  {
   "cell_type": "code",
   "execution_count": null,
   "metadata": {},
   "outputs": [],
   "source": [
    "# write.csv(data, \"data_all_features.1.csv\")"
   ]
  },
  {
   "cell_type": "markdown",
   "metadata": {},
   "source": [
    "> ggplot(analysis, aes(x = received_negativity, y = reciprocity, )) + \n",
    "  geom_point() +\n",
    "scale_x_continuous(trans='log2') +\n",
    "  scale_y_continuous(trans='log2')"
   ]
  }
 ],
 "metadata": {
  "kernelspec": {
   "display_name": "R",
   "language": "R",
   "name": "ir"
  },
  "language_info": {
   "codemirror_mode": "r",
   "file_extension": ".r",
   "mimetype": "text/x-r-source",
   "name": "R",
   "pygments_lexer": "r",
   "version": "3.4.4"
  }
 },
 "nbformat": 4,
 "nbformat_minor": 2
}
