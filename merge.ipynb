{
 "cells": [
  {
   "cell_type": "markdown",
   "metadata": {},
   "source": [
    "# Merge & Analysis"
   ]
  },
  {
   "cell_type": "code",
   "execution_count": null,
   "metadata": {},
   "outputs": [],
   "source": [
    "library(data.table)\n",
    "library(stringr)\n",
    "library(ggplot2)\n",
    "library(psych)"
   ]
  },
  {
   "cell_type": "code",
   "execution_count": null,
   "metadata": {},
   "outputs": [],
   "source": [
    "negativity <- function(df_test) {\n",
    "test <- copy(df_test)\n",
    "actions <- colnames(test)[5:9]\n",
    "neg_actions <- colnames(test)[5:7]\n",
    "\n",
    "\n",
    "test$num_actions <- rep(NA, nrow(test))\n",
    "test$num_negactions <- rep(NA, nrow(test))\n",
    "\n",
    "for(j in 1:nrow(test)){\n",
    "  \n",
    "  num_allactions <- 0\n",
    "  for(i in which(colnames(test) %in% actions)){\n",
    "    test[j,i] <- ifelse(test[j,i]==\"[]\", NA, test[j,i]) # replace empty list with NA\n",
    "    allnum <- as.list(strsplit(test[,i], \",\")[[j]])\n",
    "    num_allactions <- sum(num_allactions, length(allnum[!is.na(allnum)]))\n",
    "  }\n",
    "  test$num_actions[j] <- num_allactions + test$oadds...in.[j]\n",
    "  \n",
    "  \n",
    "  num_negactions <- 0\n",
    "  for(k in which(colnames(test) %in% neg_actions)){\n",
    "    negnum <- as.list(strsplit(test[,k], \",\")[[j]])\n",
    "    num_negactions <- sum(num_negactions, length(negnum[!is.na(negnum)]))\n",
    "  }\n",
    "  test$num_negactions[j] <- num_negactions\n",
    "}\n",
    "\n",
    "\n",
    "    return(test$num_negactions/test$num_actions)\n",
    "}"
   ]
  },
  {
   "cell_type": "code",
   "execution_count": null,
   "metadata": {},
   "outputs": [],
   "source": [
    "oneOBigger <- function(nn){\n",
    "    if (nn > 0) {\n",
    "        return(nn)\n",
    "    } else {\n",
    "        return(1)\n",
    "    }\n",
    "}\n",
    "duration.2 <- function(myvar, window = 5) {\n",
    "    \n",
    "    durc <- integer(nrow(myvar))\n",
    "    for (current_line in 1:nrow(myvar)){\n",
    "            current_auth_both <- union(myvar$s_author[current_line], myvar$t_author[current_line])\n",
    "            past_auth_in_window <- myvar[c((oneOBigger(current_line-window)):current_line),c(\"s_author\",\"t_author\")]\n",
    "            durc[current_line] <- sum(is.element(past_auth_in_window$s_author, current_auth_both) & is.element(past_auth_in_window$t_author, current_auth_both))\n",
    "        }\n",
    "     return(durc)\n",
    "}"
   ]
  },
  {
   "cell_type": "code",
   "execution_count": null,
   "metadata": {},
   "outputs": [],
   "source": [
    "received_negativity <- function(df_test) {\n",
    "    myvar <- copy(df_test)\n",
    "    durc <- integer(nrow(myvar))\n",
    "    for (current_line in 1:nrow(myvar)){\n",
    "         \n",
    "        current_target = myvar$t_revision[current_line]\n",
    "        current_s_author = myvar$s_author[current_line]\n",
    "        \n",
    "        set1 <- myvar[myvar$s_revision == current_target & myvar$t_author == current_s_author,]\n",
    "        \n",
    "        durc[current_line] <- (sum(str_count(set1$deleted...out, \"'\")) / 2) + ( sum(str_count(set1$undo_delete...in, \"'\")) / 2) +  ( sum(str_count(set1$undo_reintro...out, \"'\")) / 2)\n",
    "        }\n",
    "     return(durc)\n",
    "}"
   ]
  },
  {
   "cell_type": "code",
   "execution_count": null,
   "metadata": {},
   "outputs": [],
   "source": [
    "received_negativity.2 <- function(df_test) {\n",
    "    myvar <- copy(df_test)\n",
    "    durc <- integer(nrow(myvar))\n",
    "    for (current_line in 1:nrow(myvar)){\n",
    "         \n",
    "        current_target = myvar$t_revision[current_line]\n",
    "        current_s_author = myvar$s_author[current_line]\n",
    "        \n",
    "        set1 <- myvar[myvar$s_revision == current_target & myvar$t_author == current_s_author,]\n",
    "        \n",
    "        zzz <- (sum(str_count(set1$deleted...out, \"'\")) / 2) + ( sum(str_count(set1$undo_delete...in, \"'\")) / 2) +  ( sum(str_count(set1$undo_reintro...out, \"'\")) / 2)\n",
    "        iii <- (sum(str_count(myvar[current_line,]$deleted...out, \"'\")) / 2) + ( sum(str_count(myvar[current_line,]$undo_delete...in, \"'\")) / 2) +  ( sum(str_count(myvar[current_line,]$undo_reintro...out, \"'\")) / 2)\n",
    "        durc[current_line] = (iii) / (zzz + iii)\n",
    "    }\n",
    "     return(durc)\n",
    "}"
   ]
  },
  {
   "cell_type": "code",
   "execution_count": null,
   "metadata": {},
   "outputs": [],
   "source": [
    "negativity.2 <- function(test) {\n",
    "\n",
    "actions <- c(which(colnames(test)==\"deleted...out.\"):which(colnames(test)==\"oadds...in.\"))\n",
    "neg_actions <- c(which(colnames(test)==\"deleted...out.\"):which(colnames(test)==\"undo_delete...in.\" ))\n",
    "\n",
    "test$num_actions <- rep(NA, nrow(test))\n",
    "test$num_negactions <- rep(NA, nrow(test))\n",
    "\n",
    "for(j in 1:nrow(test)){\n",
    "  \n",
    "  num_allactions <- 0\n",
    "  for(i in actions){\n",
    "    test[j,i] <- ifelse(test[j,i]==\"[]\", NA, test[j,i]) # replace empty list with NA\n",
    "    allnum <- as.list(strsplit(test[,i], \",\")[[j]])\n",
    "    num_allactions <- sum(num_allactions, length(allnum[!is.na(allnum)]))\n",
    "  }\n",
    "  test$num_actions[j] <- num_allactions\n",
    "  \n",
    "  \n",
    "  num_negactions <- 0\n",
    "  for(k in neg_actions){\n",
    "    negnum <- as.list(strsplit(test[,k], \",\")[[j]])\n",
    "    num_negactions <- sum(num_negactions, length(negnum[!is.na(negnum)]))\n",
    "  }\n",
    "  test$num_negactions[j] <- num_negactions\n",
    "}\n",
    "\n",
    "\n",
    "    return(test$num_negactions/test$num_actions)\n",
    "}"
   ]
  },
  {
   "cell_type": "code",
   "execution_count": null,
   "metadata": {},
   "outputs": [],
   "source": [
    "negativity.noads <- function(test) {\n",
    "\n",
    "    \n",
    "actions <- c(which(colnames(test)==\"deleted...out.\"):which(colnames(test)==\"oadds...in.\"))\n",
    "neg_actions <- c(which(colnames(test)==\"deleted...out.\"):which(colnames(test)==\"undo_delete...in.\" ))\n",
    "lastneg_action <- which(colnames(test)==\"undo_delete...in.\")\n",
    "\n",
    "\n",
    "test$num_actions <- rep(NA, nrow(test))\n",
    "test$num_negactions <- rep(NA, nrow(test))\n",
    "\n",
    "for(j in 1:nrow(test)){\n",
    "  \n",
    "  num_allactions <- 0\n",
    "  for(i in actions_omitoadd){\n",
    "    allnum <- as.list(strsplit(test[,i], \",\")[[j]])\n",
    "    num_allactions <- sum(num_allactions, length(allnum[allnum!=\"[]\"]))\n",
    "    if(i==lastneg_action){test$num_negactions[j] <- num_allactions}\n",
    "  }\n",
    "  test$num_actions[j] <- num_allactions\n",
    "  \n",
    "}\n",
    "\n",
    "\n",
    "    return(test$num_negactions/test$num_actions)\n",
    "    \n",
    "}"
   ]
  },
  {
   "cell_type": "code",
   "execution_count": null,
   "metadata": {},
   "outputs": [],
   "source": []
  },
  {
   "cell_type": "code",
   "execution_count": null,
   "metadata": {},
   "outputs": [],
   "source": [
    "data <- read.csv(\"data/Eire_fabout.csv\", sep=\"\\t\", stringsAsFactors = F)"
   ]
  },
  {
   "cell_type": "code",
   "execution_count": null,
   "metadata": {},
   "outputs": [],
   "source": [
    "head(data)"
   ]
  },
  {
   "cell_type": "code",
   "execution_count": null,
   "metadata": {},
   "outputs": [],
   "source": []
  },
  {
   "cell_type": "code",
   "execution_count": null,
   "metadata": {},
   "outputs": [],
   "source": [
    "data['duration.2'] <- duration.2(data, window = 30)"
   ]
  },
  {
   "cell_type": "code",
   "execution_count": null,
   "metadata": {},
   "outputs": [],
   "source": [
    "data['received_negativity'] <- received_negativity(data)"
   ]
  },
  {
   "cell_type": "code",
   "execution_count": null,
   "metadata": {},
   "outputs": [],
   "source": [
    "data['received_negativity.2'] <- received_negativity.2(data)"
   ]
  },
  {
   "cell_type": "code",
   "execution_count": null,
   "metadata": {},
   "outputs": [],
   "source": [
    "# data['negativity.2'] <- negativity.2(data)"
   ]
  },
  {
   "cell_type": "code",
   "execution_count": null,
   "metadata": {},
   "outputs": [],
   "source": [
    "# data['negativity.noads'] <- negativity.2(data) (slow)"
   ]
  },
  {
   "cell_type": "code",
   "execution_count": null,
   "metadata": {},
   "outputs": [],
   "source": [
    "head(data)"
   ]
  },
  {
   "cell_type": "code",
   "execution_count": null,
   "metadata": {},
   "outputs": [],
   "source": [
    "analysis <- data[c('received_negativity', 'duration.2', 'ratio_swords', 'negativity_noadds', 'received_negativity.2')]"
   ]
  },
  {
   "cell_type": "code",
   "execution_count": null,
   "metadata": {},
   "outputs": [],
   "source": [
    "head(analysis)"
   ]
  },
  {
   "cell_type": "code",
   "execution_count": null,
   "metadata": {},
   "outputs": [],
   "source": [
    "ggplot(analysis, aes(x = received_negativity, y = duration.2)) + \n",
    "  geom_point()"
   ]
  },
  {
   "cell_type": "code",
   "execution_count": null,
   "metadata": {},
   "outputs": [],
   "source": [
    "ggplot(analysis, aes(x = received_negativity, y = ratio_swords)) + \n",
    "  geom_point()"
   ]
  },
  {
   "cell_type": "code",
   "execution_count": null,
   "metadata": {},
   "outputs": [],
   "source": [
    "ggplot(analysis, aes(x = negativity_noadds, y = ratio_swords)) + \n",
    "  geom_point()"
   ]
  },
  {
   "cell_type": "code",
   "execution_count": null,
   "metadata": {},
   "outputs": [],
   "source": [
    "cor(analysis)"
   ]
  },
  {
   "cell_type": "code",
   "execution_count": null,
   "metadata": {},
   "outputs": [],
   "source": [
    "summary(analysis)"
   ]
  },
  {
   "cell_type": "code",
   "execution_count": null,
   "metadata": {},
   "outputs": [],
   "source": [
    "hist(analysis$duration.2)"
   ]
  },
  {
   "cell_type": "code",
   "execution_count": null,
   "metadata": {},
   "outputs": [],
   "source": [
    "hist(analysis$ratio_swords)"
   ]
  },
  {
   "cell_type": "code",
   "execution_count": null,
   "metadata": {},
   "outputs": [],
   "source": [
    "hist(analysis$received_negativity)"
   ]
  },
  {
   "cell_type": "code",
   "execution_count": null,
   "metadata": {},
   "outputs": [],
   "source": []
  },
  {
   "cell_type": "code",
   "execution_count": null,
   "metadata": {},
   "outputs": [],
   "source": [
    "hist(analysis$negativity_noadds)"
   ]
  },
  {
   "cell_type": "code",
   "execution_count": null,
   "metadata": {},
   "outputs": [],
   "source": [
    "plot(analysis)"
   ]
  },
  {
   "cell_type": "code",
   "execution_count": null,
   "metadata": {},
   "outputs": [],
   "source": [
    "#analysis.sv <- svd(analysis)\n",
    "#plot(analysis.sv$u[, 1], analysis.sv$u[, 2], main = \"SVD\", xlab = \"U1\", ylab = \"U2\")"
   ]
  },
  {
   "cell_type": "code",
   "execution_count": null,
   "metadata": {},
   "outputs": [],
   "source": []
  }
 ],
 "metadata": {
  "kernelspec": {
   "display_name": "R",
   "language": "R",
   "name": "ir"
  },
  "language_info": {
   "codemirror_mode": "r",
   "file_extension": ".r",
   "mimetype": "text/x-r-source",
   "name": "R",
   "pygments_lexer": "r",
   "version": "3.4.4"
  }
 },
 "nbformat": 4,
 "nbformat_minor": 2
}
