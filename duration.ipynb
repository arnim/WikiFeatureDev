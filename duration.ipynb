{
 "cells": [
  {
   "cell_type": "markdown",
   "metadata": {},
   "source": [
    "# Duration"
   ]
  },
  {
   "cell_type": "code",
   "execution_count": null,
   "metadata": {},
   "outputs": [],
   "source": [
    "fingerlakes_dyads <- read.csv(\"data/fingerlakes_dyads.csv\", sep = \"\\t\")\n",
    "fingerlakes_dyads"
   ]
  },
  {
   "cell_type": "code",
   "execution_count": null,
   "metadata": {},
   "outputs": [],
   "source": []
  },
  {
   "cell_type": "code",
   "execution_count": null,
   "metadata": {},
   "outputs": [],
   "source": [
    "oneOBigger <- function(nn){\n",
    "    if (nn > 0) {\n",
    "        return(nn)\n",
    "    } else {\n",
    "        return(1)\n",
    "    }\n",
    "}"
   ]
  },
  {
   "cell_type": "code",
   "execution_count": null,
   "metadata": {},
   "outputs": [],
   "source": [
    "duration.2 <- function(myvar, window = 5) {\n",
    "    \n",
    "    durc <- integer(nrow(myvar))\n",
    "    for (current_line in 1:nrow(myvar)){\n",
    "            current_auth_both <- union(myvar$s_author[current_line], myvar$t_author[current_line])\n",
    "            past_auth_in_window <- myvar[c((oneOBigger(current_line-window)):current_line),c(\"s_author\",\"t_author\")]\n",
    "            durc[current_line] <- sum(is.element(past_auth_in_window$s_author, current_auth_both) & is.element(past_auth_in_window$t_author, current_auth_both))\n",
    "        }\n",
    "     return(durc)\n",
    "}"
   ]
  },
  {
   "cell_type": "code",
   "execution_count": null,
   "metadata": {},
   "outputs": [],
   "source": [
    "duration.2(fingerlakes_dyads)"
   ]
  },
  {
   "cell_type": "code",
   "execution_count": null,
   "metadata": {},
   "outputs": [],
   "source": []
  },
  {
   "cell_type": "code",
   "execution_count": null,
   "metadata": {},
   "outputs": [],
   "source": []
  }
 ],
 "metadata": {
  "kernelspec": {
   "display_name": "R",
   "language": "R",
   "name": "ir"
  },
  "language_info": {
   "codemirror_mode": "r",
   "file_extension": ".r",
   "mimetype": "text/x-r-source",
   "name": "R",
   "pygments_lexer": "r",
   "version": "3.4.4"
  }
 },
 "nbformat": 4,
 "nbformat_minor": 2
}
