{
 "cells": [
  {
   "cell_type": "markdown",
   "metadata": {},
   "source": [
    "## Received Negativity"
   ]
  },
  {
   "cell_type": "code",
   "execution_count": null,
   "metadata": {},
   "outputs": [],
   "source": [
    "library(stringr)"
   ]
  },
  {
   "cell_type": "code",
   "execution_count": null,
   "metadata": {},
   "outputs": [],
   "source": [
    "file_name <- \"data/Fingerlakes_example4_072018.csv\""
   ]
  },
  {
   "cell_type": "code",
   "execution_count": null,
   "metadata": {},
   "outputs": [],
   "source": [
    "data <- read.csv(file_name, stringsAsFactors=FALSE)\n",
    "data"
   ]
  },
  {
   "cell_type": "code",
   "execution_count": null,
   "metadata": {},
   "outputs": [],
   "source": [
    "received_negativity <- function(myvar) {\n",
    "  \n",
    "    durc <- integer(nrow(myvar))\n",
    "    for (current_line in 1:nrow(myvar)){\n",
    "         \n",
    "        current_target = myvar$t_revision[current_line]\n",
    "        current_s_author = myvar$s_author[current_line]\n",
    "        \n",
    "        set1 <- myvar[myvar$s_revision == current_target & myvar$t_author == current_s_author,]\n",
    "        \n",
    "        durc[current_line] <- (sum(str_count(set1$deleted...out, \"'\")) / 2) + ( sum(str_count(set1$undo_delete...in, \"'\")) / 2) +  ( sum(str_count(set1$undo_reintro...out, \"'\")) / 2)\n",
    "        \n",
    "        }\n",
    "     return(durc)\n",
    "}"
   ]
  },
  {
   "cell_type": "code",
   "execution_count": null,
   "metadata": {},
   "outputs": [],
   "source": [
    "result <- data.frame(received_negativity(data))\n",
    "names(result) <- \"featureValue\""
   ]
  },
  {
   "cell_type": "code",
   "execution_count": null,
   "metadata": {},
   "outputs": [],
   "source": [
    "write.csv(result[c(\"featureValue\")], str_replace(file_name, \".csv\", \"_received_negativity.csv\"))"
   ]
  }
 ],
 "metadata": {
  "kernelspec": {
   "display_name": "R",
   "language": "R",
   "name": "ir"
  },
  "language_info": {
   "codemirror_mode": "r",
   "file_extension": ".r",
   "mimetype": "text/x-r-source",
   "name": "R",
   "pygments_lexer": "r",
   "version": "3.4.4"
  }
 },
 "nbformat": 4,
 "nbformat_minor": 2
}
